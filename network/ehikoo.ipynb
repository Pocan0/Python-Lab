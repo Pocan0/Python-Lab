{
 "cells": [
  {
   "cell_type": "code",
   "execution_count": 1,
   "metadata": {
    "collapsed": true
   },
   "outputs": [],
   "source": [
    "# -*-  coding: utf-8 -*-\n",
    "import os, sys\n",
    "import jieba, codecs, math\n",
    "import jieba.posseg as pseg\n",
    "\n",
    "names = {}            # 字典\n",
    "relationships = {}    # 关系字典\n",
    "lineNames = []        # 关系"
   ]
  },
  {
   "cell_type": "code",
   "execution_count": 5,
   "metadata": {
    "collapsed": false
   },
   "outputs": [],
   "source": [
    "jieba.load_userdict(\"ehikoo-dict.txt\")        # 加载字典\n",
    "with codecs.open(\"ehikoo201707.txt\", \"r\", \"GB2312\") as f:\n",
    "    for line in f.readlines():\n",
    "        poss = pseg.cut(line)        # 分词并返回该词词性\n",
    "        lineNames.append([])        # 为新读入的一段添加关键词名称列表\n",
    "        for w in poss:\n",
    "            if w.flag != \"nr\" or len(w.word) < 2:\n",
    "                continue            # 当分词长度小于2或该词词性不为nr时认为该词不为关键词\n",
    "            lineNames[-1].append(w.word)        # 为当前段的环境增加一个关键词\n",
    "            if names.get(w.word) is None:\n",
    "                names[w.word] = 0\n",
    "                relationships[w.word] = {}\n",
    "            names[w.word] += 1                    # 该关键词出现次数加 1"
   ]
  },
  {
   "cell_type": "code",
   "execution_count": 6,
   "metadata": {
    "collapsed": false
   },
   "outputs": [
    {
     "name": "stdout",
     "output_type": "stream",
     "text": [
      "行业 16\n",
      "企业 38\n",
      "航运 42\n",
      "建造 40\n",
      "船舶 94\n",
      "风险 48\n",
      "市场 14\n",
      "发展 22\n",
      "公司 26\n",
      "李克强 6\n",
      "集装箱 20\n",
      "马士基 6\n",
      "达飞 2\n",
      "长荣 2\n",
      "规范 68\n",
      "数据 34\n",
      "全球 24\n",
      "生效 28\n",
      "技术 40\n",
      "胡问鸣 2\n",
      "孙波 2\n",
      "邵开文 2\n",
      "杜刚 2\n",
      "凯旋 2\n",
      "罗罗 2\n",
      "罗尔斯 2\n",
      "罗伊斯 2\n",
      "公约 48\n",
      "内容简介 2\n",
      "检验 64\n",
      "要求 42\n",
      "罗毕 2\n",
      "指南 100\n",
      "奥氏体 4\n",
      "于长江 2\n"
     ]
    }
   ],
   "source": [
    "for name, times in names.items():\n",
    "    print(name, times) #打印关键词出现的次数"
   ]
  },
  {
   "cell_type": "code",
   "execution_count": 7,
   "metadata": {
    "collapsed": true
   },
   "outputs": [],
   "source": [
    "for line in lineNames:                    # 对于每一段\n",
    "    for name1 in line:                    \n",
    "        for name2 in line:                # 每段中的任意两个关键词\n",
    "            if name1 == name2:\n",
    "                continue\n",
    "            if relationships[name1].get(name2) is None:        # 若两关键词尚未同时出现则新建项\n",
    "                relationships[name1][name2]= 1\n",
    "            else:\n",
    "                relationships[name1][name2] = relationships[name1][name2]+ 1        # 两个关键词共同出现次数加 1"
   ]
  },
  {
   "cell_type": "code",
   "execution_count": 8,
   "metadata": {
    "collapsed": true
   },
   "outputs": [],
   "source": [
    "with codecs.open(\"ehikoo_node.txt\", \"w\", \"gbk\") as f:\n",
    "    f.write(\"Id Label Weight\\r\\n\")\n",
    "    for name, times in names.items():\n",
    "        f.write(name + \" \" + name + \" \" + str(times) + \"\\r\\n\")\n",
    "\n",
    "with codecs.open(\"ehikoo_edge.txt\", \"w\", \"gbk\") as f:\n",
    "    f.write(\"Source Target Weight\\r\\n\")\n",
    "    for name, edges in relationships.items():\n",
    "        for v, w in edges.items():\n",
    "            if w > 3:\n",
    "                f.write(name + \" \" + v + \" \" + str(w) + \"\\r\\n\")"
   ]
  },
  {
   "cell_type": "code",
   "execution_count": null,
   "metadata": {
    "collapsed": true
   },
   "outputs": [],
   "source": []
  }
 ],
 "metadata": {
  "kernelspec": {
   "display_name": "Python 3",
   "language": "python",
   "name": "python3"
  },
  "language_info": {
   "codemirror_mode": {
    "name": "ipython",
    "version": 3
   },
   "file_extension": ".py",
   "mimetype": "text/x-python",
   "name": "python",
   "nbconvert_exporter": "python",
   "pygments_lexer": "ipython3",
   "version": "3.6.1"
  }
 },
 "nbformat": 4,
 "nbformat_minor": 2
}


